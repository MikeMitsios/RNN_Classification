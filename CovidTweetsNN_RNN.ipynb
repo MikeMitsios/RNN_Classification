{
  "cells": [
    {
      "cell_type": "code",
      "execution_count": 2,
      "id": "9f9c6d49",
      "metadata": {
        "colab": {
          "base_uri": "https://localhost:8080/"
        },
        "id": "9f9c6d49",
        "outputId": "59f5249e-6706-47c2-9777-5effa3dc1288"
      },
      "outputs": [
        {
          "output_type": "stream",
          "name": "stdout",
          "text": [
            "Drive already mounted at /content/drive; to attempt to forcibly remount, call drive.mount(\"/content/drive\", force_remount=True).\n"
          ]
        }
      ],
      "source": [
        "from google.colab import drive\n",
        "drive.mount('/content/drive')"
      ]
    },
    {
      "cell_type": "code",
      "execution_count": 3,
      "id": "83b7802a",
      "metadata": {
        "id": "83b7802a"
      },
      "outputs": [],
      "source": [
        "import pandas as pd\n",
        "#Load the train and validation sets\n",
        "train_df=pd.read_csv(\"/content/drive/MyDrive/data/Artificial inteligence II/vaccine_train_set.csv\",index_col=0)\n",
        "val_df=pd.read_csv(\"/content/drive/MyDrive/data/Artificial inteligence II/vaccine_validation_set.csv\",index_col=0)"
      ]
    },
    {
      "cell_type": "code",
      "execution_count": 4,
      "id": "e17a1644",
      "metadata": {
        "colab": {
          "base_uri": "https://localhost:8080/"
        },
        "id": "e17a1644",
        "outputId": "59b60f7c-ec20-4386-dc5d-9103f9dd6321"
      },
      "outputs": [
        {
          "output_type": "stream",
          "name": "stdout",
          "text": [
            "                                               tweet  label\n",
            "0  Sip N Shop Come thru right now #Marjais #Popul...      0\n",
            "1  I don't know about you but My family and I wil...      1\n",
            "2  @MSignorile Immunizations should be mandatory....      2\n",
            "3  President Obama spoke in favor of vaccination ...      0\n",
            "4  \"@myfoxla: Arizona monitoring hundreds for mea...      0\n",
            "(15976, 2)\n",
            "tweet    0\n",
            "label    0\n",
            "dtype: int64\n",
            "       tweet\n",
            "label       \n",
            "0       7458\n",
            "1       2073\n",
            "2       6445\n"
          ]
        }
      ],
      "source": [
        "#Checks that there aren't any null values\n",
        "print(train_df.head())\n",
        "print(train_df.shape)\n",
        "print(train_df.isnull().sum())\n",
        "#print the portion of each class for the train set\n",
        "print(train_df.groupby(\"label\").count())"
      ]
    },
    {
      "cell_type": "code",
      "execution_count": 5,
      "id": "bc27cdf9",
      "metadata": {
        "colab": {
          "base_uri": "https://localhost:8080/"
        },
        "id": "bc27cdf9",
        "outputId": "de41cd80-8c84-4d88-80f5-18a00f516ace"
      },
      "outputs": [
        {
          "output_type": "stream",
          "name": "stdout",
          "text": [
            "                                               tweet  label\n",
            "0  @user They had a massive surge in with covid d...      1\n",
            "1  Required vaccines for school: Parents and guar...      0\n",
            "2  “@KCStar: Two more Johnson County children hav...      0\n",
            "3  NV can do better. Which states are the best (a...      2\n",
            "4  Nothing like killing ourselves w/ our own fear...      2\n",
            "(2282, 2)\n",
            "tweet    0\n",
            "label    0\n",
            "dtype: int64\n",
            "       tweet\n",
            "label       \n",
            "0       1065\n",
            "1        296\n",
            "2        921\n"
          ]
        }
      ],
      "source": [
        "#Checks that there aren't any null values\n",
        "print(val_df.head())\n",
        "print(val_df.shape)\n",
        "print(val_df.isnull().sum())\n",
        "#print the portion of each class for the validation set\n",
        "print(val_df.groupby(\"label\").count())"
      ]
    },
    {
      "cell_type": "code",
      "execution_count": 6,
      "id": "55816b3d",
      "metadata": {
        "colab": {
          "base_uri": "https://localhost:8080/"
        },
        "id": "55816b3d",
        "outputId": "fcf5c4d0-5f82-4736-e2fc-07e2bc40fb5f"
      },
      "outputs": [
        {
          "output_type": "stream",
          "name": "stdout",
          "text": [
            "1193514\n"
          ]
        }
      ],
      "source": [
        "import numpy as np\n",
        "#open the pretrained embendings\n",
        "Glove_file=open('/content/drive/MyDrive/data/Artificial inteligence II/glove.twitter.27B.200d.txt',encoding=\"utf8\")\n",
        "glove_vectors=dict()\n",
        "\n",
        "#load the pretrain embedings to use them\n",
        "for line in Glove_file:\n",
        "\n",
        "    values=line.split()\n",
        "    word=values[0]\n",
        "    vectors=np.asarray(values[1:]).astype(np.float64)\n",
        "    glove_vectors[word]=vectors\n",
        "\n",
        "Glove_file.close()\n",
        "#save them into a dictionary with form=> word(key): vector_with_shape(200,1) (value)\n",
        "print(len(glove_vectors.keys()))"
      ]
    },
    {
      "cell_type": "code",
      "execution_count": 7,
      "id": "75642f33",
      "metadata": {
        "colab": {
          "base_uri": "https://localhost:8080/"
        },
        "id": "75642f33",
        "outputId": "f5fb267e-4fb7-428f-cfda-f202f3aef268"
      },
      "outputs": [
        {
          "output_type": "stream",
          "name": "stdout",
          "text": [
            "[ 0.35049   -0.092346  -0.21949   -0.082786  -0.33759   -0.313\n",
            "  0.75483   -0.045466  -0.16005    0.1852     0.049366   0.16048\n",
            "  0.078113  -0.16777   -0.017527   0.32436    0.55093    0.18986\n",
            "  0.17321   -0.26016    0.2022     0.20981    0.27178   -0.21254\n",
            " -0.21969    1.1221    -0.38136   -0.2081     0.18409   -0.47501\n",
            "  0.27519   -0.051902  -0.034876  -0.31578   -0.29349    0.28474\n",
            " -0.077157  -0.42709   -0.050599  -0.51074    0.34047   -0.057103\n",
            " -0.087408   0.027009  -0.26078   -0.10273    1.1167     0.39918\n",
            " -0.55439    1.0249    -0.1998    -0.26164   -0.43768   -0.49712\n",
            "  0.25035    0.12851    0.2093    -0.42327   -0.36178   -0.22508\n",
            "  0.15384    0.28213    0.0079844 -0.2828    -0.23619    0.41811\n",
            " -0.11467    0.55878    0.10266    0.01856    0.31456    0.57663\n",
            " -0.00869    0.12738   -0.34583    0.2507     0.49821    0.20216\n",
            " -0.12245    0.19284    0.077367   0.078366  -0.45167    0.010687\n",
            "  0.31628   -0.58084   -0.29625   -0.31293   -0.087788  -0.11117\n",
            "  0.3828     0.056562  -0.48752    0.029092  -0.35856    0.20361\n",
            "  0.11623    0.34688    0.47412    0.16836   -1.1867    -0.19856\n",
            "  0.34865   -0.30677   -0.5207     0.17366   -0.29848    0.25224\n",
            "  0.7317     0.6848    -0.20902   -0.33681   -0.041308  -0.27465\n",
            " -0.12515    0.11051    0.12465    0.11029    0.52363   -0.091302\n",
            " -0.064457   0.22484   -0.26719   -0.1335    -0.63529    0.69873\n",
            "  0.39962   -0.52786    0.27897   -0.17646    0.7512     0.21421\n",
            " -0.060485  -0.35942   -0.33039    0.075568   0.26767    0.060923\n",
            "  0.046913   0.075132  -0.018336  -0.25339   -0.12141   -0.21583\n",
            " -0.25633   -0.352     -0.32076    0.62204    0.18135   -0.63366\n",
            "  0.42637   -0.044078  -2.8127    -0.23363    0.11949   -0.0076459\n",
            " -0.20506   -0.22175    0.039771   0.24746    0.46977   -0.5403\n",
            "  0.11609   -0.15049   -0.042348   0.34685    0.18997   -0.26045\n",
            " -0.20527    0.16485   -0.30444   -0.17511    0.42936   -0.17555\n",
            "  0.059999   0.60506    0.08289    0.60258   -0.59878   -0.11214\n",
            "  0.026387   0.11704   -0.4526     0.51802   -0.33416   -0.39601\n",
            "  0.17006   -0.19192   -0.065448   0.082116  -0.30619    0.04552\n",
            "  0.10415   -0.11296   -0.58601   -0.48676   -0.083864   0.18959\n",
            "  0.071093   0.19768  ]\n"
          ]
        }
      ],
      "source": [
        "#Example: Print an embending of the word \"woah\"\n",
        "print(glove_vectors[\"woah\"])"
      ]
    },
    {
      "cell_type": "code",
      "execution_count": 8,
      "id": "b3dbc7e8",
      "metadata": {
        "id": "b3dbc7e8"
      },
      "outputs": [],
      "source": [
        "#function to remove the emojis fron a string\n",
        "#This will be used for the cleance of the tweets\n",
        "def deEmojify(text):\n",
        "    regrex_pattern = re.compile(pattern = \"[\"\n",
        "        u\"\\U0001F600-\\U0001F64F\"  # emoticons\n",
        "        u\"\\U0001F300-\\U0001F5FF\"  # symbols & pictographs\n",
        "        u\"\\U0001F680-\\U0001F6FF\"  # transport & map symbols\n",
        "        u\"\\U0001F1E0-\\U0001F1FF\"  # flags (iOS)\n",
        "                           \"]+\", flags = re.UNICODE)\n",
        "    return regrex_pattern.sub(r'',text)"
      ]
    },
    {
      "cell_type": "code",
      "execution_count": 9,
      "id": "3115bfb6",
      "metadata": {
        "colab": {
          "base_uri": "https://localhost:8080/"
        },
        "id": "3115bfb6",
        "outputId": "07309985-ccc2-4ae6-91da-e7b0be1fdc44"
      },
      "outputs": [
        {
          "output_type": "stream",
          "name": "stdout",
          "text": [
            "[nltk_data] Downloading package punkt to /root/nltk_data...\n",
            "[nltk_data]   Unzipping tokenizers/punkt.zip.\n",
            "[nltk_data] Downloading package stopwords to /root/nltk_data...\n",
            "[nltk_data]   Unzipping corpora/stopwords.zip.\n"
          ]
        }
      ],
      "source": [
        "# Prepare stopword list\n",
        "import nltk\n",
        "from nltk.tokenize import sent_tokenize, word_tokenize\n",
        "from nltk.stem import PorterStemmer\n",
        "from nltk.tokenize import TreebankWordTokenizer\n",
        "import string\n",
        "import re\n",
        "import nltk\n",
        "nltk.download('punkt')\n",
        "nltk.download('stopwords')\n",
        "from nltk.corpus import stopwords as sw\n",
        "\n",
        "#cleance the tweets and tokenize them\n",
        "def cleance_tokenizer(my_df):\n",
        "    custom_stopwords=sw.words('english')\n",
        "    #Cleaning\n",
        "    #The 2 lines below is the code where I remove the links, the stopwords, and the punctuations from train set\n",
        "    #remove links\n",
        "    my_df[\"Filtered_words\"]=my_df[\"tweet\"].apply(lambda row:re.sub(r'http\\S+', '', row))\n",
        "    #custom punctuation\n",
        "    my_punct=string.punctuation.replace(\"'\",\"\")\n",
        "    #remove punctuation and make all the leters lowercase\n",
        "    my_df[\"Filtered_words\"]=my_df['Filtered_words'].apply(lambda x: ' '.join([word.translate(str.maketrans('', '', string.punctuation)).lower() for word in word_tokenize(x) if word not in (custom_stopwords)]))\n",
        "    #remove digits\n",
        "    my_df[\"Filtered_words\"]=my_df[\"Filtered_words\"].apply(lambda x: re.sub(r'\\d+', '', x))\n",
        "    #remove emojis\n",
        "    my_df[\"Filtered_words\"]=my_df[\"Filtered_words\"].apply(lambda x:deEmojify(x))\n",
        "    #tokenize the filtered words\n",
        "    my_df['token_words']=my_df['Filtered_words'].apply(lambda x: TreebankWordTokenizer().tokenize(x))\n",
        "    my_df.head()\n",
        "\n",
        "cleance_tokenizer(train_df)\n",
        "# print(train_df.head())\n",
        "cleance_tokenizer(val_df)"
      ]
    },
    {
      "cell_type": "code",
      "execution_count": 10,
      "id": "9d43132b",
      "metadata": {
        "colab": {
          "base_uri": "https://localhost:8080/"
        },
        "id": "9d43132b",
        "outputId": "6a87cf08-fc88-46ad-ee71-6ca24ffe4418"
      },
      "outputs": [
        {
          "output_type": "stream",
          "name": "stdout",
          "text": [
            "Average words of the tweets:\n",
            "12.519591887831748\n",
            "Max words of the tweets:\n",
            "76\n"
          ]
        }
      ],
      "source": [
        "print(\"Average words of the tweets:\")\n",
        "print(train_df['token_words'].str.len().mean())\n",
        "\n",
        "print(\"Max words of the tweets:\")\n",
        "print(train_df['token_words'].str.len().max())"
      ]
    },
    {
      "cell_type": "code",
      "execution_count": 11,
      "id": "0e3578b1",
      "metadata": {
        "colab": {
          "base_uri": "https://localhost:8080/"
        },
        "id": "0e3578b1",
        "outputId": "8da04de7-4bce-4e28-e900-8625e7bd6f8b"
      },
      "outputs": [
        {
          "output_type": "stream",
          "name": "stdout",
          "text": [
            "176309 16753\n",
            "15244 9336\n",
            "(15976, 20, 200)\n",
            "25196 2328\n",
            "5526 1646\n",
            "(2282, 20, 200)\n"
          ]
        }
      ],
      "source": [
        "import numpy as np\n",
        "\n",
        "# the function that will take the previous tokenized words and take the mean of the pre-trained embending of the words that consists the tweet\n",
        "def tweets_to_sequence(tweets_set,dim,max_size):\n",
        "    #tweets_set=tweets_set.apply(lambda x: TreebankWordTokenizer().tokenize(x))\n",
        "    tweets_vectors=np.zeros((tweets_set.shape[0],max_size,dim))\n",
        "    #the total words on tweets that does not have an embending match\n",
        "    count=0\n",
        "    #the total words on tweets that have an embending match\n",
        "    count_found=0\n",
        "    #a set that keeps all the words that were matched with an already word that has a pretrained embending\n",
        "    found_set=set()\n",
        "    #set that keeps track of all the words which does not have a pretrained embending\n",
        "    nt_found_set=set()\n",
        "    for index, row in tweets_set.iteritems():\n",
        "        #print(index,row)\n",
        "        #words= TreebankWordTokenizer().tokenize(row)\n",
        "        word_vectors=np.zeros((max_size,dim))\n",
        "        for i,w in enumerate(row):\n",
        "            if i>=max_size:\n",
        "                break\n",
        "            vector=glove_vectors.get(w)\n",
        "            if vector is not None:\n",
        "                count_found+=1\n",
        "                word_vectors[i]=(np.array(vector))\n",
        "                found_set.add(w)\n",
        "            else:\n",
        "                count+=1\n",
        "                word_vectors[i]=(np.zeros(dim))\n",
        "                #print(w)\n",
        "                nt_found_set.add(w)\n",
        "\n",
        "        #print(np.array(word_vectors))    \n",
        "        sentence_vecs= np.array(word_vectors).reshape((max_size,dim))\n",
        "        #print(np.array(word_vectors).shape)  \n",
        "        tweets_vectors[index]=sentence_vecs              #tweets_vectors.append([np.mean(k) for k in zip(*word_vectors)])\n",
        "    #print the total words to the words that there wasn't any embending    \n",
        "    print(count_found, count)\n",
        "    print(len(found_set), len(nt_found_set)) \n",
        "    print(tweets_vectors.shape)\n",
        "    return  tweets_vectors  \n",
        "\n",
        "\n",
        "#for each tweet create a 20sized vector in train set\n",
        "train_tweets_embendings=tweets_to_sequence(train_df['token_words'],200,20)\n",
        "#for each tweet create a 20sized vector in validation set\n",
        "val_tweets_embendings=tweets_to_sequence(val_df['token_words'],200,20)"
      ]
    },
    {
      "cell_type": "code",
      "execution_count": 12,
      "id": "e881bd90",
      "metadata": {
        "colab": {
          "base_uri": "https://localhost:8080/"
        },
        "id": "e881bd90",
        "outputId": "2f69a576-3a4f-40af-9c35-82c6ace9e0f0"
      },
      "outputs": [
        {
          "output_type": "stream",
          "name": "stdout",
          "text": [
            "(15976, 20, 200)\n",
            "(2282, 20, 200)\n",
            "float64\n",
            "x shape: torch.Size([15976, 20, 200])\n",
            "y shape: torch.Size([15976, 1])\n"
          ]
        }
      ],
      "source": [
        "import torch\n",
        "import torch.nn as nn\n",
        "import torch.nn.functional as F\n",
        "\n",
        "tr_tweets_emb=np.array(train_tweets_embendings)\n",
        "vl_tweets_emb=np.array(val_tweets_embendings)\n",
        "print(tr_tweets_emb.shape)\n",
        "print(vl_tweets_emb.shape)\n",
        "print(tr_tweets_emb.dtype)\n",
        "y_df = pd.DataFrame(train_df, columns=['label'])\n",
        "#x-create the tensor for the train_tweets_embendings\n",
        "x = torch.tensor(tr_tweets_emb, dtype=torch.float)\n",
        "#y-create the tensor for the labels of the train set\n",
        "y = torch.tensor(y_df.values, dtype=torch.float)\n",
        "\n",
        "#val_x-create the tensor for the validation_tweets_embendings\n",
        "val_x=torch.tensor(vl_tweets_emb, dtype=torch.float)\n",
        "#y-create the tensor for the labels of the validation set\n",
        "val_y_df = pd.DataFrame(val_df, columns=['label'])\n",
        "val_y = torch.tensor(val_y_df.values, dtype=torch.float)\n",
        "\n",
        "# print(y[1])\n",
        "print(f\"x shape: {x.shape}\")\n",
        "print(f\"y shape: {y.shape}\")"
      ]
    },
    {
      "cell_type": "code",
      "execution_count": 13,
      "id": "21940f68",
      "metadata": {
        "id": "21940f68"
      },
      "outputs": [],
      "source": [
        "#Used the source below to implement my own Attention class\n",
        "#https://pytorchnlp.readthedocs.io/en/latest/_modules/torchnlp/nn/attention.html\n",
        "#https://www.analyticsvidhya.com/blog/2019/11/comprehensive-guide-attention-mechanism-deep-learning/\n",
        "\n",
        "class Attention(nn.Module):\n",
        "    def __init__(self, dimensions):\n",
        "        self.dimension=dimensions\n",
        "        super(Attention, self).__init__()\n",
        "        self.linear_in = nn.Linear(dimensions, dimensions)\n",
        "        self.linear_out = nn.Linear(dimensions * 2, dimensions)\n",
        "        self.softmax = nn.Softmax(dim=1)\n",
        "        self.tanh = nn.Tanh()\n",
        "\n",
        "    def forward(self, query, context):\n",
        "        batch_size, output_len, dimensions = query.size()\n",
        "        query_len = context.size(1)\n",
        "\n",
        "        #Linear pass the input\n",
        "        query = self.linear_in(query)\n",
        "\n",
        "\n",
        "        # (batch_size, output_len, dimensions) * (batch_size, query_len, dimensions) ->\n",
        "        # (batch_size, output_len, query_len)\n",
        "\n",
        "        #calculate the scores between the final hidden state and all the previous ones as dot products\n",
        "        attention_scores = torch.bmm(query, context.unsqueeze(2))\n",
        "\n",
        "        attention_scores=attention_scores.squeeze()\n",
        "\n",
        "        # Compute weights across every context sequence. See which word was taken into consideration more\n",
        "        #use softmax layer to produce the probabilities of each \"word\"\n",
        "        attention_weights = self.softmax(attention_scores)\n",
        "\n",
        "        # (batch_size, output_len, query_len) * (batch_size, query_len, dimensions) ->\n",
        "        # (batch_size, output_len, dimensions)\n",
        "\n",
        "        mix = torch.bmm( attention_weights.unsqueeze(1) ,query).squeeze()\n",
        "\n",
        "        #Combine the weighted results with the final hidden state.\n",
        "        combined = torch.cat((mix, context), dim=1)\n",
        "\n",
        "\n",
        "        # Apply linear_out on every 2nd dimension of concat\n",
        "        # output -> (batch_size, output_len, dimensions)\n",
        "        output = self.linear_out(combined)\n",
        "        output = self.tanh(output)\n",
        "\n",
        "        return output, attention_weights\n"
      ]
    },
    {
      "cell_type": "code",
      "execution_count": 14,
      "id": "a85cda3c",
      "metadata": {
        "id": "a85cda3c"
      },
      "outputs": [],
      "source": [
        "#My Neural Network model, with 3 layers 128-64-32 and activation function ReLU6\n",
        "class RNN(nn.Module):\n",
        "    \n",
        "    def __init__(self, D_in, hidden_s, D_out, cell_t, stacked_n, layers_n, sk_layers, dr_out, bidir, b_s, att):\n",
        "        activation_f=nn.ReLU        #the activation function\n",
        "        self.d_in=D_in\n",
        "        self.hidden_size=hidden_s\n",
        "        self.d_out=D_out\n",
        "        self.cell_t=cell_t\n",
        "        self.stacked_layers_num=stacked_n\n",
        "        self.layers_num=layers_n\n",
        "        self.skip_layers=sk_layers\n",
        "        self.drop_out=dr_out\n",
        "        self.bidirectional=bidir\n",
        "        self.batch_size=b_s\n",
        "        self.attention=att\n",
        "        # self.downsample=downsample\n",
        "        super(RNN, self).__init__()\n",
        "\n",
        "        if self.bidirectional:\n",
        "            self.lin= nn.Linear(self.hidden_size*2, D_out)\n",
        "        else:\n",
        "            self.lin= nn.Linear(self.hidden_size, D_out)   \n",
        "\n",
        "\n",
        "        self.rnns = nn.ModuleList()         # using a module list to implement the stacked layers\n",
        "\n",
        "        #choose the format that the layers of our model will have\n",
        "        if cell_t==\"GRU\":\n",
        "            self.component_type=nn.GRU\n",
        "        else:\n",
        "            self.component_type=nn.LSTM\n",
        "\n",
        "        #create a list that will have stacked_layers_num as \n",
        "        for l in range(self.stacked_layers_num):\n",
        "            if l>0:\n",
        "                if self.bidirectional:\n",
        "                    layer_input=self.hidden_size*2\n",
        "                else:    \n",
        "                    layer_input=self.hidden_size\n",
        "            else:\n",
        "                layer_input=self.d_in\n",
        "            self.rnns.append(self.component_type(input_size=layer_input, \n",
        "                            hidden_size=self.hidden_size, \n",
        "                            num_layers=self.layers_num,           #we stack the lstm manually for skip connections\n",
        "                            batch_first=True, \n",
        "                            bidirectional=self.bidirectional, \n",
        "                            dropout=self.drop_out))\n",
        "\n",
        "        #the layer used to be skipped\n",
        "        self.sk_layer=nn.ReLU()\n",
        "        \n",
        "        #The attention layer\n",
        "        self.attention_layer=Attention(self.d_in)\n",
        "        #The dropout layers need to have betwwen stacked layers\n",
        "        self.dropout_layer = torch.nn.Dropout(p=self.drop_out)\n",
        "\n",
        "    def forward(self, x):       \n",
        "\n",
        "        if self.bidirectional:\n",
        "            #Initialize the hidden states for LSTM and GRU if it is bidirectional x2\n",
        "            h0 = torch.zeros(self.layers_num*2, x.size(0), self.hidden_size) \n",
        "            #Initialize the cell states for LSTM if it is bidirectional x2\n",
        "            c0 = torch.zeros(self.layers_num*2, x.size(0), self.hidden_size)\n",
        "        else:\n",
        "            #Initialize the hidden states for LSTM and GRU\n",
        "            h0 = torch.zeros(self.layers_num, x.size(0), self.hidden_size) \n",
        "            #Initialize the cell states for LSTM\n",
        "            c0 = torch.zeros(self.layers_num, x.size(0), self.hidden_size)\n",
        "\n",
        " \n",
        "        for r,rnn in enumerate(self.rnns):\n",
        "            #Run either the GRUs or LSTMs Layers\n",
        "            if self.cell_t==\"LSTM\":\n",
        "                out, out_states = rnn(x,(h0, c0))\n",
        "            else:\n",
        "                out, out_states = rnn(x,h0) \n",
        "\n",
        "            # SKIP LAYER\n",
        "            if self.skip_layers and r>0:\n",
        "                out = self.sk_layer(out) + x\n",
        "            #give as input to the next LSTM the output of the current LSTM\n",
        "            out = self.dropout_layer(out)\n",
        "            x=out\n",
        "         \n",
        "        #Keep the results only from the last item of the sequence\n",
        "        last_out = out[:,-1,:]\n",
        "        if self.attention:\n",
        "            last_out, attention_weights = self.attention_layer.forward(out, last_out)\n",
        "        # print(last_out.shape)\n",
        "        out = self.lin(last_out)\n",
        "        return out #torch.relu(out)"
      ]
    },
    {
      "cell_type": "code",
      "execution_count": 15,
      "id": "34c36e8e",
      "metadata": {
        "colab": {
          "base_uri": "https://localhost:8080/"
        },
        "id": "34c36e8e",
        "outputId": "2984b8d3-a5c9-4430-c9c0-5506a42e90c4"
      },
      "outputs": [
        {
          "output_type": "stream",
          "name": "stdout",
          "text": [
            "Using cpu device\n"
          ]
        }
      ],
      "source": [
        "from sklearn.utils import class_weight\n",
        "#Define layer sizes\n",
        "D_in =  200 #dimensions of each input embedding\n",
        "hidden_num = 100\n",
        "#Out put dimensions 3 (one for each class)\n",
        "D_out = 3\n",
        "#Dropout Layer Propbability\n",
        "dr_out=0.3\n",
        "#If the RNN will be bidirectional  or not\n",
        "bidirectional=True\n",
        "#numbers of stacked layers for each LSTM/GRU\n",
        "layers_num=2\n",
        "#Batch size\n",
        "batch_size=64\n",
        "\n",
        "#Define Hyperparameters\n",
        "learning_rate = 0.0003 #0.00001\n",
        "\n",
        "# Get cpu or gpu device for training.\n",
        "device = \"cuda\" if torch.cuda.is_available() else \"cpu\"\n",
        "print(f\"Using {device} device\")\n",
        "\n",
        "#initialize the class weights in a balanced way\n",
        "class_weights = class_weight.compute_class_weight(class_weight='balanced', classes=np.unique(train_df.label), y=train_df.label)\n",
        "class_weights = torch.tensor(class_weights,dtype=torch.float)\n",
        "\n",
        "#Initialize model, loss, optimizer\n",
        "#D_in, hidden_s, D_out, cell_t, stacked_n, layers_n, sk_layers, dr_out, bidir, b_s\n",
        "model = RNN(D_in=D_in,\n",
        "            hidden_s=hidden_num, \n",
        "            D_out=D_out,\n",
        "            cell_t=\"LSTM\",\n",
        "            stacked_n=2,\n",
        "            layers_n=layers_num,\n",
        "            sk_layers=True, \n",
        "            dr_out=dr_out, \n",
        "            bidir=True, \n",
        "            b_s=batch_size,\n",
        "            att=True).to(device)  #my RNN\n",
        "\n",
        "\n",
        "loss_func = nn.CrossEntropyLoss()   #Loss Function  weight=class_weights\n",
        "optimizer = torch.optim.Adam(model.parameters(), lr=learning_rate, weight_decay = 1e-3)  #Adamax optimizer\n",
        "\n",
        "#Initialize dataloader\n",
        "train_dataset = torch.utils.data.TensorDataset(x, y)\n",
        "train_dataloader = torch.utils.data.DataLoader(train_dataset, batch_size=64,shuffle=True) #shuffle=True\n",
        "#validation data loaders\n",
        "val_dataset = torch.utils.data.TensorDataset(val_x, val_y)\n",
        "val_dataloader = torch.utils.data.DataLoader(val_dataset, batch_size=64,shuffle=True) #shuffle=True\n",
        "\n"
      ]
    },
    {
      "cell_type": "code",
      "execution_count": 16,
      "id": "d66d0f85",
      "metadata": {
        "id": "d66d0f85"
      },
      "outputs": [],
      "source": [
        "#a function to calculate the accuracy given the predictions of each class and the truly label\n",
        "def multiclass_accuracy(predictions, targets):\n",
        "    y_pred_softmax = torch.log_softmax(predictions, dim = 1)\n",
        "    #the label that the tweet belongs to will be the one with the highest propability\n",
        "    predicts=torch.argmax(y_pred_softmax,1)\n",
        "    corrects_found=(torch.squeeze(targets) == predicts).float()\n",
        "    return corrects_found.sum()/len(corrects_found)"
      ]
    },
    {
      "cell_type": "code",
      "execution_count": 17,
      "id": "85496d4c",
      "metadata": {
        "colab": {
          "base_uri": "https://localhost:8080/"
        },
        "id": "85496d4c",
        "outputId": "65e57902-dc27-47ea-a03b-0f75da1b4e42"
      },
      "outputs": [
        {
          "output_type": "stream",
          "name": "stdout",
          "text": [
            "Epoch   0: Loss = 0.85899\n",
            "Accuracy = 0.59866\n",
            "VAL_Loss = 0.77240\n",
            "VAL_Accuracy = 0.65722\n",
            "Epoch   1: Loss = 0.73885\n",
            "Accuracy = 0.67513\n",
            "VAL_Loss = 0.74847\n",
            "VAL_Accuracy = 0.66609\n",
            "Epoch   2: Loss = 0.70887\n",
            "Accuracy = 0.69235\n",
            "VAL_Loss = 0.73207\n",
            "VAL_Accuracy = 0.67890\n",
            "Epoch   3: Loss = 0.68873\n",
            "Accuracy = 0.69974\n",
            "VAL_Loss = 0.70329\n",
            "VAL_Accuracy = 0.68888\n",
            "Epoch   4: Loss = 0.67547\n",
            "Accuracy = 0.70566\n",
            "VAL_Loss = 0.70284\n",
            "VAL_Accuracy = 0.68868\n",
            "Epoch   5: Loss = 0.66950\n",
            "Accuracy = 0.70955\n",
            "VAL_Loss = 0.69260\n",
            "VAL_Accuracy = 0.69409\n",
            "Epoch   6: Loss = 0.65762\n",
            "Accuracy = 0.71737\n",
            "VAL_Loss = 0.71115\n",
            "VAL_Accuracy = 0.68909\n",
            "Epoch   7: Loss = 0.65217\n",
            "Accuracy = 0.71865\n",
            "VAL_Loss = 0.69808\n",
            "VAL_Accuracy = 0.69170\n"
          ]
        }
      ],
      "source": [
        "#Training Session\n",
        "EPOCHS_NUM=8\n",
        "epochs=[]\n",
        "losses=[]\n",
        "accuracies=[]\n",
        "val_losses=[]\n",
        "val_accuracies=[]\n",
        "for epoch in range(EPOCHS_NUM):\n",
        "    batch_losses = []\n",
        "    batch_accuracies = []\n",
        "    epochs.append(epoch)\n",
        "    epoch_acc=0\n",
        "    for x_batch, y_batch in train_dataloader:\n",
        "        x_batch=x_batch.type(torch.FloatTensor).to(device=device)\n",
        "        y_batch=y_batch.to(device=device)\n",
        "\n",
        "        #print(x_batch.long())\n",
        "        y_pred = model(x_batch)\n",
        "        loss = loss_func(y_pred, y_batch.squeeze(1).long())     \n",
        "        batch_losses.append(loss.item())\n",
        "        #Delete previously stored gradients\n",
        "        optimizer.zero_grad()\n",
        "        #Perform backpropagation starting from the loss calculated in this epoch\n",
        "        loss.backward()\n",
        "        #gradient clipping do not exceed 20\n",
        "        torch.nn.utils.clip_grad_value_(model.parameters(), 20)\n",
        "        #Update model's weights based on the gradients calculated during backprop\n",
        "        optimizer.step()\n",
        "        \n",
        "        #take the index of the max among the 3 options\n",
        "        #calculate the accuracy\n",
        "        batch_acc=multiclass_accuracy(y_pred,y_batch)\n",
        "        batch_accuracies.append(batch_acc)\n",
        "\n",
        "    # VALIDATION    \n",
        "    with torch.no_grad():\n",
        "        \n",
        "        val_batch_losses = []\n",
        "        val_batch_accuracies = []\n",
        "        \n",
        "        model.eval()\n",
        "        for X_val_batch, y_val_batch in val_dataloader:\n",
        "            X_val_batch=X_val_batch.to(device=device)\n",
        "            y_val_batch=y_val_batch.to(device=device)\n",
        "            #make the predictions based on the current trained model\n",
        "            y_val_pred = model(X_val_batch)\n",
        "            #calculate the loss function\n",
        "            val_loss = loss_func(y_val_pred.squeeze(1), y_val_batch.squeeze(1).long())\n",
        "            val_batch_losses.append(val_loss)\n",
        "            #calculate the accuracy\n",
        "            val_acc = multiclass_accuracy(y_val_pred, y_val_batch)\n",
        "            val_batch_accuracies.append(val_acc)\n",
        "\n",
        "\n",
        "\n",
        "    loss=sum(batch_losses)/len(train_dataloader)\n",
        "    print(f\"Epoch {epoch:3}: Loss = {loss:.5f}\")\n",
        "    acc=sum(batch_accuracies)/len(train_dataloader)\n",
        "    print(f\"Accuracy = {acc:.5f}\")\n",
        "    losses.append(loss)\n",
        "    accuracies.append(acc)\n",
        "    #validation scores\n",
        "    val_loss=sum(val_batch_losses)/len(val_dataloader)\n",
        "    print(f\"VAL_Loss = {val_loss:.5f}\")\n",
        "    val_acc=sum(val_batch_accuracies)/len(val_dataloader)\n",
        "    print(f\"VAL_Accuracy = {val_acc:.5f}\")\n",
        "    val_losses.append(val_loss)\n",
        "    val_accuracies.append(val_acc)"
      ]
    },
    {
      "cell_type": "code",
      "execution_count": 18,
      "id": "7e8a6043",
      "metadata": {
        "colab": {
          "base_uri": "https://localhost:8080/",
          "height": 300
        },
        "id": "7e8a6043",
        "outputId": "997a80ee-12f3-49a1-cb31-309f16f12966"
      },
      "outputs": [
        {
          "output_type": "stream",
          "name": "stdout",
          "text": [
            "tensor(0.7187)\n",
            "tensor(0.6941)\n"
          ]
        },
        {
          "output_type": "display_data",
          "data": {
            "image/png": "[encoded data removed]",
            "text/plain": [
              "<Figure size 432x288 with 1 Axes>"
            ]
          },
          "metadata": {
            "needs_background": "light"
          }
        }
      ],
      "source": [
        "import matplotlib.pyplot as plt\n",
        "#plot the accuracy arcoding to the epochs\n",
        "plt.plot(epochs,accuracies)\n",
        "plt.plot(epochs,val_accuracies)\n",
        "print(max(accuracies))\n",
        "print(max(val_accuracies))"
      ]
    },
    {
      "cell_type": "code",
      "execution_count": 19,
      "id": "b6a47a88",
      "metadata": {
        "colab": {
          "base_uri": "https://localhost:8080/",
          "height": 300
        },
        "id": "b6a47a88",
        "outputId": "810ed15c-d1d1-46df-ee71-3c4df71c0a55"
      },
      "outputs": [
        {
          "output_type": "stream",
          "name": "stdout",
          "text": [
            "0.6521735441684723\n",
            "tensor(0.6926)\n"
          ]
        },
        {
          "output_type": "display_data",
          "data": {
            "image/png": "[encoded data removed]",
            "text/plain": [
              "<Figure size 432x288 with 1 Axes>"
            ]
          },
          "metadata": {
            "needs_background": "light"
          }
        }
      ],
      "source": [
        "import matplotlib.pyplot as plt\n",
        "#plot the error acording to the epochs\n",
        "plt.plot(epochs,losses)\n",
        "plt.plot(epochs,val_losses)\n",
        "print(min(losses))\n",
        "print(min(val_losses))"
      ]
    },
    {
      "cell_type": "code",
      "execution_count": 20,
      "id": "f2ff3e75",
      "metadata": {
        "colab": {
          "base_uri": "https://localhost:8080/"
        },
        "id": "f2ff3e75",
        "outputId": "ee517c76-363e-4b01-f67f-3a4c6c201e70"
      },
      "outputs": [
        {
          "output_type": "stream",
          "name": "stdout",
          "text": [
            "tensor([[ 0.4708, -0.1339, -0.2645],\n",
            "        [ 0.5324, -1.3774,  0.7415],\n",
            "        [ 1.6309, -2.3163,  0.5407],\n",
            "        ...,\n",
            "        [-0.1272, -0.8414,  0.8825],\n",
            "        [ 0.2487, -1.1977,  0.8450],\n",
            "        [ 1.0118, -2.1243,  0.9310]])\n",
            "tensor(0.6919)\n"
          ]
        }
      ],
      "source": [
        "#make predictions for the validation set\n",
        "with torch.no_grad():\n",
        "    val_pred=model(val_x)\n",
        "    soft_val_pred=torch.softmax(val_pred, dim = 1)\n",
        "    print(val_pred)\n",
        "    print(multiclass_accuracy(val_pred,val_y))"
      ]
    },
    {
      "cell_type": "code",
      "execution_count": 21,
      "id": "321cb90e",
      "metadata": {
        "colab": {
          "base_uri": "https://localhost:8080/"
        },
        "id": "321cb90e",
        "outputId": "bfe1b03a-4b55-492d-b125-073c198804ef"
      },
      "outputs": [
        {
          "output_type": "stream",
          "name": "stdout",
          "text": [
            "              precision    recall  f1-score   support\n",
            "\n",
            "         0.0       0.73      0.81      0.77      1065\n",
            "         1.0       0.56      0.21      0.31       296\n",
            "         2.0       0.66      0.70      0.68       921\n",
            "\n",
            "    accuracy                           0.69      2282\n",
            "   macro avg       0.65      0.58      0.59      2282\n",
            "weighted avg       0.68      0.69      0.67      2282\n",
            "\n",
            "Accuracy: 0.6919368974583698\n",
            "F1_score: 0.5868325137680116\n",
            "Precision: 0.6510096061170726\n",
            "Recall: 0.5771970610331394\n"
          ]
        }
      ],
      "source": [
        "from sklearn.metrics import accuracy_score\n",
        "from sklearn.metrics import f1_score\n",
        "from sklearn.metrics import precision_score\n",
        "from sklearn.metrics import recall_score\n",
        "from sklearn.metrics import classification_report\n",
        "\n",
        "#a function to calculate the scores given the predictions of each class and the truly label\n",
        "def multiclass_scores(predictions, targets):\n",
        "    y_pred_softmax = torch.log_softmax(predictions, dim = 1)\n",
        "    #the label that the tweet belongs to will be the one with the highest propability\n",
        "    predicts=torch.argmax(y_pred_softmax,1)\n",
        "    print(classification_report(torch.squeeze(targets), predicts))\n",
        "    print(\"Accuracy: \"+ str(accuracy_score(torch.squeeze(targets),predicts)))\n",
        "    print(\"F1_score: \"+str(f1_score(torch.squeeze(targets),predicts,average='macro')))\n",
        "    print(\"Precision: \"+str(precision_score(torch.squeeze(targets),predicts,average='macro')))\n",
        "    print(\"Recall: \"+str(recall_score(torch.squeeze(targets),predicts,average='macro')))\n",
        "\n",
        "\n",
        "multiclass_scores(val_pred,val_y)    "
      ]
    },
    {
      "cell_type": "code",
      "execution_count": 22,
      "id": "1ec26570",
      "metadata": {
        "id": "1ec26570"
      },
      "outputs": [],
      "source": [
        "#ROC Curve calculations\n",
        "from sklearn.metrics import roc_curve, auc\n",
        "#acc, val_final_predicts=multiclass_accuracy_predictions(val_pred,val_y)\n",
        "fpr = dict()\n",
        "tpr = dict()\n",
        "roc_auc = dict()\n",
        "\n",
        "num_val_y=val_y.squeeze().numpy().astype(int)\n",
        "#print(num_val_y.shape)\n",
        "#making the label of validation set one-hot encoding\n",
        "b_num_val_y = np.zeros((num_val_y.size, num_val_y.max()+1))\n",
        "b_num_val_y[np.arange(num_val_y.size),num_val_y] = 1\n",
        "\n",
        "for i in range(3):\n",
        "    \n",
        "    fpr[i], tpr[i], _ = roc_curve(b_num_val_y[:,i], soft_val_pred[:,i])\n",
        "    #print(fpr[i])\n",
        "    roc_auc[i] = auc(fpr[i], tpr[i])"
      ]
    },
    {
      "cell_type": "code",
      "execution_count": 23,
      "id": "5f0fa16e",
      "metadata": {
        "colab": {
          "base_uri": "https://localhost:8080/",
          "height": 442
        },
        "id": "5f0fa16e",
        "outputId": "fce39f65-c0fc-4973-c7b3-1f9feedbb71a"
      },
      "outputs": [
        {
          "output_type": "display_data",
          "data": {
            "image/png": "[encoded data removed]",
            "text/plain": [
              "<Figure size 720x504 with 1 Axes>"
            ]
          },
          "metadata": {
            "needs_background": "light"
          }
        }
      ],
      "source": [
        "from itertools import cycle\n",
        "colors = cycle([\"aqua\", \"darkorange\", \"cornflowerblue\"])\n",
        "plt.figure(figsize = (10,7))\n",
        "for i, color in zip(range(3), colors):\n",
        "    plt.plot(\n",
        "        fpr[i],\n",
        "        tpr[i],\n",
        "        color=color,\n",
        "        lw=2,\n",
        "        label=\"ROC curve of class {0} (area = {1:0.2f})\".format(i, roc_auc[i])\n",
        "    )\n",
        "plt.plot([0, 1], [0, 1], 'k--')\n",
        "plt.xlabel('False Positive Rate')\n",
        "plt.ylabel('True Positive Rate')\n",
        "plt.legend(loc=\"lower right\")\n",
        "plt.show()    "
      ]
    },
    {
      "cell_type": "code",
      "execution_count": 24,
      "id": "cebb49b7",
      "metadata": {
        "colab": {
          "base_uri": "https://localhost:8080/",
          "height": 530
        },
        "id": "cebb49b7",
        "outputId": "2eece19f-4179-4728-ab36-e4e66c03507f"
      },
      "outputs": [
        {
          "output_type": "stream",
          "name": "stdout",
          "text": [
            "[[867  17 181]\n",
            " [ 78  63 155]\n",
            " [240  32 649]]\n"
          ]
        },
        {
          "output_type": "display_data",
          "data": {
            "image/png": "[encoded data removed]",
            "text/plain": [
              "<Figure size 720x504 with 2 Axes>"
            ]
          },
          "metadata": {
            "needs_background": "light"
          }
        }
      ],
      "source": [
        "#The confusion matrix of my predictions\n",
        "from sklearn.metrics import plot_confusion_matrix\n",
        "from sklearn.metrics import confusion_matrix\n",
        "import matplotlib.pyplot as plt\n",
        "import seaborn as sn\n",
        "\n",
        "val_max=torch.argmax(soft_val_pred, dim=1)\n",
        "cm=confusion_matrix( y_true=val_y.squeeze(1), y_pred=val_max,labels=[0,1,2])\n",
        "print(cm)\n",
        "plt.figure(figsize = (10,7))\n",
        "sn.set(font_scale=1.4)\n",
        "sn.heatmap(cm, annot=True, annot_kws={\"size\": 16},fmt='g') # font size\n",
        "plt.xlabel('Predicted Label')\n",
        "plt.ylabel('True Label')\n",
        "plt.title(\"Confusion Matrix for 3 Classes\")\n",
        "plt.show()"
      ]
    }
  ],
  "metadata": {
    "kernelspec": {
      "display_name": "Python 3 (ipykernel)",
      "language": "python",
      "name": "python3"
    },
    "language_info": {
      "codemirror_mode": {
        "name": "ipython",
        "version": 3
      },
      "file_extension": ".py",
      "mimetype": "text/x-python",
      "name": "python",
      "nbconvert_exporter": "python",
      "pygments_lexer": "ipython3",
      "version": "3.9.7"
    },
    "colab": {
      "name": "CovidTweetsNN_MODEL_1.ipynb",
      "provenance": [],
      "collapsed_sections": []
    }
  },
  "nbformat": 4,
  "nbformat_minor": 5
}